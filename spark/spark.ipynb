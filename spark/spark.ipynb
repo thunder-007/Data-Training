{
 "cells": [
  {
   "cell_type": "code",
   "execution_count": 1,
   "id": "24c9ebee-e094-412a-bde0-a49e71ab543a",
   "metadata": {},
   "outputs": [
    {
     "name": "stderr",
     "output_type": "stream",
     "text": [
      "Setting default log level to \"WARN\".\n",
      "To adjust logging level use sc.setLogLevel(newLevel). For SparkR, use setLogLevel(newLevel).\n",
      "24/08/22 13:19:56 WARN NativeCodeLoader: Unable to load native-hadoop library for your platform... using builtin-java classes where applicable\n"
     ]
    }
   ],
   "source": [
    "from pyspark.sql import SparkSession\n",
    "\n",
    "spark = SparkSession.builder.appName(\"covid_spark\").config(\"spark.sql.repl.eagerEval.enabled\", True).getOrCreate()\n"
   ]
  },
  {
   "cell_type": "code",
   "execution_count": 2,
   "id": "59f10c78-f506-498f-847f-b18f08b7af28",
   "metadata": {},
   "outputs": [
    {
     "data": {
      "text/html": [
       "\n",
       "            <div>\n",
       "                <p><b>SparkSession - in-memory</b></p>\n",
       "                \n",
       "        <div>\n",
       "            <p><b>SparkContext</b></p>\n",
       "\n",
       "            <p><a href=\"http://thunderbook.internal.cloudapp.net:4040\">Spark UI</a></p>\n",
       "\n",
       "            <dl>\n",
       "              <dt>Version</dt>\n",
       "                <dd><code>v3.5.2</code></dd>\n",
       "              <dt>Master</dt>\n",
       "                <dd><code>local[*]</code></dd>\n",
       "              <dt>AppName</dt>\n",
       "                <dd><code>covid_spark</code></dd>\n",
       "            </dl>\n",
       "        </div>\n",
       "        \n",
       "            </div>\n",
       "        "
      ],
      "text/plain": [
       "<pyspark.sql.session.SparkSession at 0x7da4f1719fd0>"
      ]
     },
     "execution_count": 2,
     "metadata": {},
     "output_type": "execute_result"
    }
   ],
   "source": [
    "spark"
   ]
  },
  {
   "cell_type": "code",
   "execution_count": 3,
   "id": "5005758d-cff4-4911-9ad8-d49fb3c7e55a",
   "metadata": {},
   "outputs": [],
   "source": [
    "df = spark.read.csv(\"covid_data.csv\", header=True, inferSchema=True)"
   ]
  },
  {
   "cell_type": "code",
   "execution_count": 4,
   "id": "cab78226-9ec5-4d40-86d9-52ef329cdb65",
   "metadata": {},
   "outputs": [
    {
     "data": {
      "text/html": [
       "<table border='1'>\n",
       "<tr><th>Date</th><th>Name of State / UT</th><th>Latitude</th><th>Longitude</th><th>Total Confirmed cases</th><th>Death</th><th>Cured/Discharged/Migrated</th><th>New cases</th><th>New deaths</th><th>New recovered</th></tr>\n",
       "<tr><td>1/30/2020</td><td>Kerala</td><td>10.8505</td><td>76.2711</td><td>1</td><td>0</td><td>0</td><td>0</td><td>0</td><td>0</td></tr>\n",
       "<tr><td>1/31/2020</td><td>Kerala</td><td>10.8505</td><td>76.2711</td><td>1</td><td>0</td><td>0</td><td>0</td><td>0</td><td>0</td></tr>\n",
       "<tr><td>2/1/2020</td><td>Kerala</td><td>10.8505</td><td>76.2711</td><td>2</td><td>0</td><td>0</td><td>1</td><td>0</td><td>0</td></tr>\n",
       "<tr><td>2/2/2020</td><td>Kerala</td><td>10.8505</td><td>76.2711</td><td>3</td><td>0</td><td>0</td><td>1</td><td>0</td><td>0</td></tr>\n",
       "<tr><td>2/3/2020</td><td>Kerala</td><td>10.8505</td><td>76.2711</td><td>3</td><td>0</td><td>0</td><td>0</td><td>0</td><td>0</td></tr>\n",
       "<tr><td>2/4/2020</td><td>Kerala</td><td>10.8505</td><td>76.2711</td><td>3</td><td>0</td><td>0</td><td>0</td><td>0</td><td>0</td></tr>\n",
       "<tr><td>2/5/2020</td><td>Kerala</td><td>10.8505</td><td>76.2711</td><td>3</td><td>0</td><td>0</td><td>0</td><td>0</td><td>0</td></tr>\n",
       "<tr><td>2/6/2020</td><td>Kerala</td><td>10.8505</td><td>76.2711</td><td>3</td><td>0</td><td>0</td><td>0</td><td>0</td><td>0</td></tr>\n",
       "<tr><td>2/7/2020</td><td>Kerala</td><td>10.8505</td><td>76.2711</td><td>3</td><td>0</td><td>0</td><td>0</td><td>0</td><td>0</td></tr>\n",
       "<tr><td>2/8/2020</td><td>Kerala</td><td>10.8505</td><td>76.2711</td><td>3</td><td>0</td><td>0</td><td>0</td><td>0</td><td>0</td></tr>\n",
       "<tr><td>2/9/2020</td><td>Kerala</td><td>10.8505</td><td>76.2711</td><td>3</td><td>0</td><td>0</td><td>0</td><td>0</td><td>0</td></tr>\n",
       "<tr><td>2/10/2020</td><td>Kerala</td><td>10.8505</td><td>76.2711</td><td>3</td><td>0</td><td>0</td><td>0</td><td>0</td><td>0</td></tr>\n",
       "<tr><td>2/11/2020</td><td>Kerala</td><td>10.8505</td><td>76.2711</td><td>3</td><td>0</td><td>0</td><td>0</td><td>0</td><td>0</td></tr>\n",
       "<tr><td>2/12/2020</td><td>Kerala</td><td>10.8505</td><td>76.2711</td><td>3</td><td>0</td><td>0</td><td>0</td><td>0</td><td>0</td></tr>\n",
       "<tr><td>2/13/2020</td><td>Kerala</td><td>10.8505</td><td>76.2711</td><td>3</td><td>0</td><td>0</td><td>0</td><td>0</td><td>0</td></tr>\n",
       "<tr><td>2/14/2020</td><td>Kerala</td><td>10.8505</td><td>76.2711</td><td>3</td><td>0</td><td>0</td><td>0</td><td>0</td><td>0</td></tr>\n",
       "<tr><td>2/15/2020</td><td>Kerala</td><td>10.8505</td><td>76.2711</td><td>3</td><td>0</td><td>0</td><td>0</td><td>0</td><td>0</td></tr>\n",
       "<tr><td>2/16/2020</td><td>Kerala</td><td>10.8505</td><td>76.2711</td><td>3</td><td>0</td><td>0</td><td>0</td><td>0</td><td>0</td></tr>\n",
       "<tr><td>2/17/2020</td><td>Kerala</td><td>10.8505</td><td>76.2711</td><td>3</td><td>0</td><td>0</td><td>0</td><td>0</td><td>0</td></tr>\n",
       "<tr><td>2/18/2020</td><td>Kerala</td><td>10.8505</td><td>76.2711</td><td>3</td><td>0</td><td>0</td><td>0</td><td>0</td><td>0</td></tr>\n",
       "</table>\n",
       "only showing top 20 rows\n"
      ],
      "text/plain": [
       "+---------+------------------+--------+---------+---------------------+-----+-------------------------+---------+----------+-------------+\n",
       "|     Date|Name of State / UT|Latitude|Longitude|Total Confirmed cases|Death|Cured/Discharged/Migrated|New cases|New deaths|New recovered|\n",
       "+---------+------------------+--------+---------+---------------------+-----+-------------------------+---------+----------+-------------+\n",
       "|1/30/2020|            Kerala| 10.8505|  76.2711|                    1|    0|                        0|        0|         0|            0|\n",
       "|1/31/2020|            Kerala| 10.8505|  76.2711|                    1|    0|                        0|        0|         0|            0|\n",
       "| 2/1/2020|            Kerala| 10.8505|  76.2711|                    2|    0|                        0|        1|         0|            0|\n",
       "| 2/2/2020|            Kerala| 10.8505|  76.2711|                    3|    0|                        0|        1|         0|            0|\n",
       "| 2/3/2020|            Kerala| 10.8505|  76.2711|                    3|    0|                        0|        0|         0|            0|\n",
       "| 2/4/2020|            Kerala| 10.8505|  76.2711|                    3|    0|                        0|        0|         0|            0|\n",
       "| 2/5/2020|            Kerala| 10.8505|  76.2711|                    3|    0|                        0|        0|         0|            0|\n",
       "| 2/6/2020|            Kerala| 10.8505|  76.2711|                    3|    0|                        0|        0|         0|            0|\n",
       "| 2/7/2020|            Kerala| 10.8505|  76.2711|                    3|    0|                        0|        0|         0|            0|\n",
       "| 2/8/2020|            Kerala| 10.8505|  76.2711|                    3|    0|                        0|        0|         0|            0|\n",
       "| 2/9/2020|            Kerala| 10.8505|  76.2711|                    3|    0|                        0|        0|         0|            0|\n",
       "|2/10/2020|            Kerala| 10.8505|  76.2711|                    3|    0|                        0|        0|         0|            0|\n",
       "|2/11/2020|            Kerala| 10.8505|  76.2711|                    3|    0|                        0|        0|         0|            0|\n",
       "|2/12/2020|            Kerala| 10.8505|  76.2711|                    3|    0|                        0|        0|         0|            0|\n",
       "|2/13/2020|            Kerala| 10.8505|  76.2711|                    3|    0|                        0|        0|         0|            0|\n",
       "|2/14/2020|            Kerala| 10.8505|  76.2711|                    3|    0|                        0|        0|         0|            0|\n",
       "|2/15/2020|            Kerala| 10.8505|  76.2711|                    3|    0|                        0|        0|         0|            0|\n",
       "|2/16/2020|            Kerala| 10.8505|  76.2711|                    3|    0|                        0|        0|         0|            0|\n",
       "|2/17/2020|            Kerala| 10.8505|  76.2711|                    3|    0|                        0|        0|         0|            0|\n",
       "|2/18/2020|            Kerala| 10.8505|  76.2711|                    3|    0|                        0|        0|         0|            0|\n",
       "+---------+------------------+--------+---------+---------------------+-----+-------------------------+---------+----------+-------------+\n",
       "only showing top 20 rows"
      ]
     },
     "execution_count": 4,
     "metadata": {},
     "output_type": "execute_result"
    }
   ],
   "source": [
    "df"
   ]
  },
  {
   "cell_type": "markdown",
   "id": "ce64c2be-bf6d-44da-8f10-987b86f1c90d",
   "metadata": {},
   "source": [
    "# Convert all State names to lowercase"
   ]
  },
  {
   "cell_type": "code",
   "execution_count": 5,
   "id": "bec29bff-60ab-465e-a753-93e1505e0af2",
   "metadata": {},
   "outputs": [],
   "source": [
    "from pyspark.sql.functions import lower\n",
    "df = df.withColumn(\"Name of State / UT\", lower(df[\"Name of State / UT\"]))"
   ]
  },
  {
   "cell_type": "markdown",
   "id": "1e331243-03c1-469d-b14d-7c9dfb8fc55e",
   "metadata": {},
   "source": [
    "# Day with highest number of covid cases"
   ]
  },
  {
   "cell_type": "code",
   "execution_count": 6,
   "id": "d45a7982-27be-4d0d-b136-276a96b7dd93",
   "metadata": {},
   "outputs": [
    {
     "data": {
      "text/plain": [
       "'8/6/2020'"
      ]
     },
     "execution_count": 6,
     "metadata": {},
     "output_type": "execute_result"
    }
   ],
   "source": [
    "day_with_highest_cases = df.orderBy(df[\"Total Confirmed cases\"].desc()).first()\n",
    "day_with_highest_cases['Date']"
   ]
  },
  {
   "cell_type": "markdown",
   "id": "e71f98c7-75e2-49ae-b2c5-daa12da402f1",
   "metadata": {},
   "source": [
    "# Second Largest covid Cases"
   ]
  },
  {
   "cell_type": "code",
   "execution_count": 7,
   "id": "562cb47f-844b-4c95-8215-b65a0f2fabe0",
   "metadata": {},
   "outputs": [
    {
     "data": {
      "text/plain": [
       "'tamil nadu'"
      ]
     },
     "execution_count": 7,
     "metadata": {},
     "output_type": "execute_result"
    }
   ],
   "source": [
    "from pyspark.sql.functions import sum as spark_sum\n",
    "import plotly.express as px\n",
    "state_cases = df.groupBy(\"Name of State / UT\").agg(spark_sum(\"Total Confirmed cases\").alias(\"Total Cases\"))\n",
    "second_largest_state = state_cases.orderBy(state_cases[\"Total Cases\"].desc()).take(2)[1]\n",
    "second_largest_state['Name of State / UT']"
   ]
  },
  {
   "cell_type": "code",
   "execution_count": 8,
   "id": "35ab2d39-a583-4c32-aa6f-74eabce520b3",
   "metadata": {},
   "outputs": [
    {
     "data": {
      "text/html": [
       "<iframe\n",
       "    scrolling=\"no\"\n",
       "    width=\"100%\"\n",
       "    height=\"545px\"\n",
       "    src=\"iframe_figures/figure_8.html\"\n",
       "    frameborder=\"0\"\n",
       "    allowfullscreen\n",
       "></iframe>\n"
      ]
     },
     "metadata": {},
     "output_type": "display_data"
    }
   ],
   "source": [
    "import plotly.io as pio\n",
    "pio.renderers.default = 'iframe'\n",
    "state_cases_pd = state_cases.orderBy(state_cases[\"Total Cases\"].desc()).toPandas()\n",
    "fig = px.bar(state_cases_pd, x='Name of State / UT', y='Total Cases', title='COVID-19 Cases by State',\n",
    "             labels={'Name of State / UT': 'State', 'Total Cases': 'Total COVID-19 Cases'}, \n",
    "             text='Total Cases')\n",
    "fig.update_traces(texttemplate='%{text:.2s}', textposition='outside')\n",
    "fig.update_layout(uniformtext_minsize=8, uniformtext_mode='hide', xaxis={'categoryorder':'total descending'})\n",
    "fig.show()"
   ]
  },
  {
   "cell_type": "markdown",
   "id": "4e5ee645-be94-49d7-ade3-f45be3208f71",
   "metadata": {},
   "source": [
    "# Union Territory with least number of deaths"
   ]
  },
  {
   "cell_type": "code",
   "execution_count": 9,
   "id": "a371a3c9-f591-43a5-93b7-3d1abe437c24",
   "metadata": {},
   "outputs": [],
   "source": [
    "ut_df = df.filter(df[\"Name of State / UT\"].startswith(\"union territory of\"))"
   ]
  },
  {
   "cell_type": "code",
   "execution_count": 10,
   "id": "9ea1aead-23a9-43b0-8807-45b9802a23e0",
   "metadata": {},
   "outputs": [
    {
     "data": {
      "text/html": [
       "<table border='1'>\n",
       "<tr><th>Date</th><th>Name of State / UT</th><th>Latitude</th><th>Longitude</th><th>Total Confirmed cases</th><th>Death</th><th>Cured/Discharged/Migrated</th><th>New cases</th><th>New deaths</th><th>New recovered</th></tr>\n",
       "<tr><td>3/7/2020</td><td>union territory o...</td><td>34.2996</td><td>78.2932</td><td>2</td><td>0</td><td>0</td><td>0</td><td>0</td><td>0</td></tr>\n",
       "<tr><td>3/8/2020</td><td>union territory o...</td><td>34.2996</td><td>78.2932</td><td>2</td><td>0</td><td>0</td><td>0</td><td>0</td><td>0</td></tr>\n",
       "<tr><td>3/9/2020</td><td>union territory o...</td><td>33.7782</td><td>76.5762</td><td>1</td><td>0</td><td>0</td><td>0</td><td>0</td><td>0</td></tr>\n",
       "<tr><td>3/9/2020</td><td>union territory o...</td><td>34.2996</td><td>78.2932</td><td>2</td><td>0</td><td>0</td><td>0</td><td>0</td><td>0</td></tr>\n",
       "<tr><td>3/10/2020</td><td>union territory o...</td><td>33.7782</td><td>76.5762</td><td>1</td><td>0</td><td>0</td><td>0</td><td>0</td><td>0</td></tr>\n",
       "<tr><td>3/10/2020</td><td>union territory o...</td><td>34.2996</td><td>78.2932</td><td>2</td><td>0</td><td>0</td><td>0</td><td>0</td><td>0</td></tr>\n",
       "<tr><td>3/11/2020</td><td>union territory o...</td><td>33.7782</td><td>76.5762</td><td>1</td><td>0</td><td>0</td><td>0</td><td>0</td><td>0</td></tr>\n",
       "<tr><td>3/11/2020</td><td>union territory o...</td><td>34.2996</td><td>78.2932</td><td>2</td><td>0</td><td>0</td><td>0</td><td>0</td><td>0</td></tr>\n",
       "<tr><td>3/12/2020</td><td>union territory o...</td><td>33.7782</td><td>76.5762</td><td>1</td><td>0</td><td>0</td><td>0</td><td>0</td><td>0</td></tr>\n",
       "<tr><td>3/12/2020</td><td>union territory o...</td><td>34.2996</td><td>78.2932</td><td>3</td><td>0</td><td>0</td><td>1</td><td>0</td><td>0</td></tr>\n",
       "<tr><td>3/13/2020</td><td>union territory o...</td><td>33.7782</td><td>76.5762</td><td>1</td><td>0</td><td>0</td><td>0</td><td>0</td><td>0</td></tr>\n",
       "<tr><td>3/13/2020</td><td>union territory o...</td><td>34.2996</td><td>78.2932</td><td>3</td><td>0</td><td>0</td><td>0</td><td>0</td><td>0</td></tr>\n",
       "<tr><td>3/14/2020</td><td>union territory o...</td><td>33.7782</td><td>76.5762</td><td>2</td><td>0</td><td>0</td><td>1</td><td>0</td><td>0</td></tr>\n",
       "<tr><td>3/14/2020</td><td>union territory o...</td><td>34.2996</td><td>78.2932</td><td>3</td><td>0</td><td>0</td><td>0</td><td>0</td><td>0</td></tr>\n",
       "<tr><td>3/15/2020</td><td>union territory o...</td><td>33.7782</td><td>76.5762</td><td>2</td><td>0</td><td>0</td><td>0</td><td>0</td><td>0</td></tr>\n",
       "<tr><td>3/15/2020</td><td>union territory o...</td><td>34.2996</td><td>78.2932</td><td>3</td><td>0</td><td>0</td><td>0</td><td>0</td><td>0</td></tr>\n",
       "<tr><td>3/16/2020</td><td>union territory o...</td><td>33.7782</td><td>76.5762</td><td>3</td><td>0</td><td>0</td><td>1</td><td>0</td><td>0</td></tr>\n",
       "<tr><td>3/16/2020</td><td>union territory o...</td><td>34.2996</td><td>78.2932</td><td>4</td><td>0</td><td>0</td><td>1</td><td>0</td><td>0</td></tr>\n",
       "<tr><td>3/17/2020</td><td>union territory o...</td><td>33.7782</td><td>76.5762</td><td>3</td><td>0</td><td>0</td><td>0</td><td>0</td><td>0</td></tr>\n",
       "<tr><td>3/17/2020</td><td>union territory o...</td><td>34.2996</td><td>78.2932</td><td>6</td><td>0</td><td>0</td><td>2</td><td>0</td><td>0</td></tr>\n",
       "</table>\n",
       "only showing top 20 rows\n"
      ],
      "text/plain": [
       "+---------+--------------------+--------+---------+---------------------+-----+-------------------------+---------+----------+-------------+\n",
       "|     Date|  Name of State / UT|Latitude|Longitude|Total Confirmed cases|Death|Cured/Discharged/Migrated|New cases|New deaths|New recovered|\n",
       "+---------+--------------------+--------+---------+---------------------+-----+-------------------------+---------+----------+-------------+\n",
       "| 3/7/2020|union territory o...| 34.2996|  78.2932|                    2|    0|                        0|        0|         0|            0|\n",
       "| 3/8/2020|union territory o...| 34.2996|  78.2932|                    2|    0|                        0|        0|         0|            0|\n",
       "| 3/9/2020|union territory o...| 33.7782|  76.5762|                    1|    0|                        0|        0|         0|            0|\n",
       "| 3/9/2020|union territory o...| 34.2996|  78.2932|                    2|    0|                        0|        0|         0|            0|\n",
       "|3/10/2020|union territory o...| 33.7782|  76.5762|                    1|    0|                        0|        0|         0|            0|\n",
       "|3/10/2020|union territory o...| 34.2996|  78.2932|                    2|    0|                        0|        0|         0|            0|\n",
       "|3/11/2020|union territory o...| 33.7782|  76.5762|                    1|    0|                        0|        0|         0|            0|\n",
       "|3/11/2020|union territory o...| 34.2996|  78.2932|                    2|    0|                        0|        0|         0|            0|\n",
       "|3/12/2020|union territory o...| 33.7782|  76.5762|                    1|    0|                        0|        0|         0|            0|\n",
       "|3/12/2020|union territory o...| 34.2996|  78.2932|                    3|    0|                        0|        1|         0|            0|\n",
       "|3/13/2020|union territory o...| 33.7782|  76.5762|                    1|    0|                        0|        0|         0|            0|\n",
       "|3/13/2020|union territory o...| 34.2996|  78.2932|                    3|    0|                        0|        0|         0|            0|\n",
       "|3/14/2020|union territory o...| 33.7782|  76.5762|                    2|    0|                        0|        1|         0|            0|\n",
       "|3/14/2020|union territory o...| 34.2996|  78.2932|                    3|    0|                        0|        0|         0|            0|\n",
       "|3/15/2020|union territory o...| 33.7782|  76.5762|                    2|    0|                        0|        0|         0|            0|\n",
       "|3/15/2020|union territory o...| 34.2996|  78.2932|                    3|    0|                        0|        0|         0|            0|\n",
       "|3/16/2020|union territory o...| 33.7782|  76.5762|                    3|    0|                        0|        1|         0|            0|\n",
       "|3/16/2020|union territory o...| 34.2996|  78.2932|                    4|    0|                        0|        1|         0|            0|\n",
       "|3/17/2020|union territory o...| 33.7782|  76.5762|                    3|    0|                        0|        0|         0|            0|\n",
       "|3/17/2020|union territory o...| 34.2996|  78.2932|                    6|    0|                        0|        2|         0|            0|\n",
       "+---------+--------------------+--------+---------+---------------------+-----+-------------------------+---------+----------+-------------+\n",
       "only showing top 20 rows"
      ]
     },
     "execution_count": 10,
     "metadata": {},
     "output_type": "execute_result"
    }
   ],
   "source": [
    "ut_df"
   ]
  },
  {
   "cell_type": "code",
   "execution_count": 11,
   "id": "669103e9-3e8e-4531-b611-bbbf2c240d03",
   "metadata": {},
   "outputs": [
    {
     "data": {
      "text/plain": [
       "'union territory of ladakh'"
      ]
     },
     "execution_count": 11,
     "metadata": {},
     "output_type": "execute_result"
    }
   ],
   "source": [
    "ut_deaths = ut_df.groupBy(\"Name of State / UT\").agg(spark_sum(\"Death\").alias(\"Total Deaths\"))\n",
    "least_deaths_ut = ut_deaths.orderBy(ut_deaths[\"Total Deaths\"].asc()).first()\n",
    "least_deaths_ut['Name of State / UT']"
   ]
  },
  {
   "cell_type": "code",
   "execution_count": null,
   "id": "1a1d5007-5b2c-43d0-89cd-fccc1a94e54a",
   "metadata": {},
   "outputs": [],
   "source": []
  },
  {
   "cell_type": "code",
   "execution_count": 12,
   "id": "77626394-89e8-47ef-94c2-d60efa624b8f",
   "metadata": {},
   "outputs": [],
   "source": [
    "# spark.stop()"
   ]
  },
  {
   "cell_type": "code",
   "execution_count": null,
   "id": "bbc099e6-f785-4c8c-8560-37a7392b4344",
   "metadata": {},
   "outputs": [],
   "source": []
  }
 ],
 "metadata": {
  "kernelspec": {
   "display_name": "Python 3 (ipykernel)",
   "language": "python",
   "name": "python3"
  },
  "language_info": {
   "codemirror_mode": {
    "name": "ipython",
    "version": 3
   },
   "file_extension": ".py",
   "mimetype": "text/x-python",
   "name": "python",
   "nbconvert_exporter": "python",
   "pygments_lexer": "ipython3",
   "version": "3.12.3"
  }
 },
 "nbformat": 4,
 "nbformat_minor": 5
}
